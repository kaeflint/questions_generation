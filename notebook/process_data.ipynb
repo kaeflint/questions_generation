{
 "cells": [
  {
   "cell_type": "code",
   "execution_count": 11,
   "metadata": {},
   "outputs": [],
   "source": [
    "import sys\n",
    "import json\n",
    "from  mosestokenizer.detokenizer import MosesDetokenizer\n",
    "detokenize = MosesDetokenizer('en')"
   ]
  },
  {
   "cell_type": "code",
   "execution_count": 22,
   "metadata": {},
   "outputs": [],
   "source": [
    "trivia_wiki_train =json.load(open('../datasets/extracted_trivia_qa//wikipedia-train.json'))\n",
    "trivia_wiki_dev =json.load(open('../datasets/extracted_trivia_qa//wikipedia-dev.json'))"
   ]
  },
  {
   "cell_type": "code",
   "execution_count": 24,
   "metadata": {},
   "outputs": [
    {
     "data": {
      "text/plain": [
       "{'context': \"Ronald Gerald Wayne ( born May 17 , 1934 ) is a retired American electronics industry worker . He co-founded Apple Computer ( now Apple Inc. ) with Steve Wozniak and Steve Jobs , providing administrative oversight for the new venture . He soon , however , sold his share of the new company for $ 800 US dollars , and later accepted $ 1,500 to forfeit any claims against Apple ( in total , ) . \\n \\n Early life \\n \\n Wayne was born in Cleveland , Ohio , United States on May 17 , 1934 . He trained as a technical draftsman at the School of Industrial Arts in New York . In 1956 he moved to California . Wayne 's first business venture was a company selling slot machines . The company failed , with Wayne reflecting in 2014 that , `` I discovered very quickly that I had no business being in business . I was far better working in engineering . '' \\n \\n Career \\n \\n Apple \\n \\n Wayne worked with Steve Jobs at Atari before he , Jobs , and Wozniak founded Apple Computer on April 1 , 1976 . Serving as the venture 's `` adult supervision '' , Wayne drew the first Apple logo , wrote the three men 's original partnership agreement , and wrote the Apple I manual . \\n \\n Wayne received a 10 % stake in Apple but relinquished his equity for US $ 800 less than two weeks later , on April 12 , 1976 . Legally , all members of a partnership are personally responsible for any debts incurred by any partner ; unlike Jobs and Wozniak , then 21 and 25 , Wayne had personal assets that potential creditors could seize .\",\n",
       " 'qas': [{'answers': [{'answer_start': 109, 'text': 'apple com'}],\n",
       "   'id': 'qb_8316--Ronald_Wayne.txt',\n",
       "   'qid': 'qb_8316',\n",
       "   'question': 'Steve Jobs, Ronald Wayne and Steve Wozniak founded which company in 1976?'}]}"
      ]
     },
     "execution_count": 24,
     "metadata": {},
     "output_type": "execute_result"
    }
   ],
   "source": [
    "trivia_wiki_dev['data'][5]['paragraphs'][0]"
   ]
  },
  {
   "cell_type": "code",
   "execution_count": 26,
   "metadata": {},
   "outputs": [
    {
     "data": {
      "text/plain": [
       "\"Tikki Tikki Tembo {Full name Tikki tikki tembo-no sa rembo- chari bari ruchi-pip peri pembo} is a 1968 picture book written by Arlene Mosel and illustrated by Blair Lent. The book tells the story of a Chinese boy with a long name who fell into a well. It is a sort of origin myth about why Chinese names are so short today. The book is controversial because it appears to retell a Japanese story and because it does not portray Chinese culture accurately. Plot Tikki Tikki Tembo is set in ancient China and invents an ancient Chinese custom whereby parents honor their first-born sons with long, elaborate names that everyone is obliged to say completely - no nicknames, no shortening of any kind - while second-born sons are typically given short, unimportant names. A boy named Tikki Tikki Tembo-no Sa Rembo-chari Bari Ruchi-pip Peri Pembo (``The Most Wonderful Thing in the Whole Wide World '') and his little brother Chang (`` Little or Nothing'') are playing very close to a well at their house that their mother has warned them to avoid. Chang falls in the well and his older brother runs to their mother and tells her Chang has fallen down the well. Their mother tells him to get the Old Man with the Ladder. He goes and tells the old man. Chang is rescued and then recovers quickly. Some time later, the boys are again playing near the well. This time, the older brother falls in. Chang runs to their mother and tries to tell her that ``Tikki Tikki Tembo-no Sa Rembo-chari Bari Ruchi-pip Peri Pembo has fallen\""
      ]
     },
     "execution_count": 26,
     "metadata": {},
     "output_type": "execute_result"
    }
   ],
   "source": [
    "detokenize(trivia_wiki_dev['data'][10]['paragraphs'][0]['context'].split())"
   ]
  },
  {
   "cell_type": "code",
   "execution_count": 45,
   "metadata": {},
   "outputs": [],
   "source": [
    "\n",
    "from nltk.util import ngrams\n",
    "from nltk.tokenize import sent_tokenize\n",
    "import numpy as np"
   ]
  },
  {
   "cell_type": "code",
   "execution_count": 32,
   "metadata": {},
   "outputs": [],
   "source": [
    "sentences=sent_tokenize(\"\"\"\n",
    "Tikki Tikki Tembo {Full name Tikki tikki tembo-no sa rembo- chari bari ruchi-pip peri pembo} is a 1968 picture book written by Arlene Mosel and illustrated by Blair Lent. The book tells the story of a Chinese boy with a long name who fell into a well. It is a sort of origin myth about why Chinese names are so short today. The book is controversial because it appears to retell a Japanese story and because it does not portray Chinese culture accurately. Plot Tikki Tikki Tembo is set in ancient China and invents an ancient Chinese custom whereby parents honor their first-born sons with long, elaborate names that everyone is obliged to say completely - no nicknames, no shortening of any kind - while second-born sons are typically given short, unimportant names. A boy named Tikki Tikki Tembo-no Sa Rembo-chari Bari Ruchi-pip Peri Pembo (``The Most Wonderful Thing in the Whole Wide World '') and his little brother Chang (`` Little or Nothing'') are playing very close to a well at their house that their mother has warned them to avoid.\n",
    "\"\"\")"
   ]
  },
  {
   "cell_type": "code",
   "execution_count": 38,
   "metadata": {},
   "outputs": [],
   "source": [
    "vals = list(ngrams(range(len(sentences)),5))"
   ]
  },
  {
   "cell_type": "code",
   "execution_count": 41,
   "metadata": {},
   "outputs": [],
   "source": [
    "def selectContext(articles, answer_index,n=5):\n",
    "    vals = list(ngrams(range(len(articles)),n))\n",
    "    for l in vals:\n",
    "        if answer_index in l:\n",
    "            return l"
   ]
  },
  {
   "cell_type": "code",
   "execution_count": 46,
   "metadata": {},
   "outputs": [
    {
     "data": {
      "text/plain": [
       "array([3, 5])"
      ]
     },
     "execution_count": 46,
     "metadata": {},
     "output_type": "execute_result"
    }
   ],
   "source": [
    "np.array(a)[[0,2]]"
   ]
  }
 ],
 "metadata": {
  "kernelspec": {
   "display_name": "Python 3.9.13 ('development')",
   "language": "python",
   "name": "python3"
  },
  "language_info": {
   "codemirror_mode": {
    "name": "ipython",
    "version": 3
   },
   "file_extension": ".py",
   "mimetype": "text/x-python",
   "name": "python",
   "nbconvert_exporter": "python",
   "pygments_lexer": "ipython3",
   "version": "3.9.13"
  },
  "orig_nbformat": 4,
  "vscode": {
   "interpreter": {
    "hash": "473435c5caf2da67d3d84349b3ab99ae605588908510e1f3cdf041055f6c21f2"
   }
  }
 },
 "nbformat": 4,
 "nbformat_minor": 2
}
