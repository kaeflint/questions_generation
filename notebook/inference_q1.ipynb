{
 "cells": [
  {
   "cell_type": "code",
   "execution_count": 1,
   "metadata": {},
   "outputs": [
    {
     "name": "stderr",
     "output_type": "stream",
     "text": [
      "[nltk_data] Downloading package punkt to /home/nlplab/nltk_data...\n",
      "[nltk_data]   Package punkt is already up-to-date!\n"
     ]
    }
   ],
   "source": [
    "import os\n",
    "os.environ['CUDA_VISIBLE_DEVICES']='2'\n",
    "#import wget\n",
    "import sys\n",
    "sys.path.append('../')\n",
    "import argparse\n",
    "import json\n",
    "import pandas as pd\n",
    "import random\n",
    "import numpy as np\n",
    "import string\n",
    "import nltk\n",
    "from functools import partial\n",
    "import re\n",
    "from  tqdm import tqdm\n",
    "import torch\n",
    "nltk.download('punkt')\n",
    "from src.dataset_classes import DatasetObject,Features,SquadQuestionGenerationDataset\n",
    "from src.utils import answerGeneratorDataset,questionGeneratorDataset,buildFact,setuptokenizer,pad_seq,SmartCollator\n",
    "from dataclasses import dataclass, field\n",
    "from nltk.tokenize import sent_tokenize"
   ]
  },
  {
   "cell_type": "code",
   "execution_count": 2,
   "metadata": {},
   "outputs": [],
   "source": [
    "model_base = 'facebook/bart-base'\n",
    "tokenizer = setuptokenizer(model_base=model_base,\n",
    "                           special_tokens=['<section>','</section>'\n",
    "                                           ,'<generate_questions>',\n",
    "                                           '<generate_answers>'])"
   ]
  },
  {
   "cell_type": "code",
   "execution_count": 3,
   "metadata": {},
   "outputs": [],
   "source": [
    "dataset = SquadQuestionGenerationDataset(tokenizer,nb_records=1)\n",
    "dataset.change_data_mode(1)"
   ]
  },
  {
   "cell_type": "code",
   "execution_count": 4,
   "metadata": {},
   "outputs": [],
   "source": [
    "from transformers import BartForConditionalGeneration\n",
    "# Set up the model\n",
    "def model_init(device =  torch.device('cuda') if torch.cuda.is_available() else torch.device('cpu') ):\n",
    "    generator = BartForConditionalGeneration.from_pretrained(model_base)\n",
    "    # update the tokens \n",
    "    generator.resize_token_embeddings(len(tokenizer))\n",
    "    return generator.to(device)\n",
    "\n",
    "trained_weights = torch.load('../trained_models/bart_base_model_1/checkpoint-8000/pytorch_model.bin')\n",
    "\n",
    "generator = model_init()\n",
    "generator.load_state_dict(trained_weights)\n",
    "device = generator.device"
   ]
  },
  {
   "cell_type": "code",
   "execution_count": 5,
   "metadata": {},
   "outputs": [],
   "source": [
    "from nltk.util import ngrams\n",
    "import wikipedia\n",
    "def factgenerator(document,n):\n",
    "    return list(ngrams(sent_tokenize(document.strip()),n))"
   ]
  },
  {
   "cell_type": "code",
   "execution_count": 6,
   "metadata": {},
   "outputs": [],
   "source": [
    "sample_too = True\n",
    "sampling_helper = {} if not sample_too else dict(top_k=30, top_p=0.95,)\n",
    "max_length=250\n",
    "length_penalty=2.6\n",
    "beam_size=4\n",
    "repetition_penalty=1.56\n",
    "return_top_beams= beam_size if not sample_too else 10"
   ]
  },
  {
   "cell_type": "code",
   "execution_count": 7,
   "metadata": {},
   "outputs": [],
   "source": [
    "article = wikipedia.summary('Renewable Energy')\n",
    "n=4\n",
    "facts = [' '.join(s).replace('\\n','').strip() for s in factgenerator(article.replace('.T','. T'),n=n)]"
   ]
  },
  {
   "cell_type": "code",
   "execution_count": 17,
   "metadata": {},
   "outputs": [],
   "source": [
    "from  mosestokenizer.detokenizer import MosesDetokenizer"
   ]
  },
  {
   "cell_type": "code",
   "execution_count": 22,
   "metadata": {},
   "outputs": [],
   "source": [
    "tokenize = MosesDetokenizer('en')"
   ]
  },
  {
   "cell_type": "code",
   "execution_count": 21,
   "metadata": {},
   "outputs": [
    {
     "data": {
      "text/plain": [
       "'White is an achromatic color, a color without hue.'"
      ]
     },
     "execution_count": 21,
     "metadata": {},
     "output_type": "execute_result"
    }
   ],
   "source": [
    "tokenize('White is an achromatic color , a color without hue .'.split())"
   ]
  },
  {
   "cell_type": "code",
   "execution_count": 11,
   "metadata": {},
   "outputs": [
    {
     "name": "stdout",
     "output_type": "stream",
     "text": [
      "Article Section: Biomass and geothermal energy grew from 2% to 3%. There are 3,146 gigawatts installed in 135 countries, while 156 countries have laws regulating the renewable energy sector. Globally there are over 10 million jobs associated with the renewable energy industries, with solar photovoltaics being the largest renewable employer. Renewable energy systems are rapidly becoming more efficient and cheaper and their share of total energy consumption is increasing, with a large majority of worldwide newly installed electricity capacity being renewable.\n",
      "Questions Generated\n",
      "What percentage of electricity capacity is renewable?\n",
      "How many gigawatts of renewable energy capacity are in 135 countries?\n",
      "What percentage of electricity capacity in the world is solar photovoltaics?\n",
      "What is the percentage of installed electricity capacity being renewable?\n",
      "How many gigawatts of solar photovoltaics are there in the world?\n",
      "What percentage of worldwide newly installed electricity capacity is renewable?\n",
      "How many gigawatts of solar photovoltaics are there in 135 countries?\n",
      "How many gigawatts of electricity are in 135 countries?\n",
      "What percentage of installed electricity capacity is renewable?\n",
      "How many gigawatts of geothermal energy are in 135 countries?\n"
     ]
    }
   ],
   "source": [
    "task_id = 0\n",
    "target_fact = facts[8]\n",
    "\n",
    "#' item[COA], volume[32m3],  ratio[0.06]  Table 1: Chemical combination rule for working with N2 gas.'\n",
    "data = DatasetObject(task='<generate_questions> ', question='',\n",
    "                     context=target_fact, fact=target_fact,\n",
    "                     answer='',\n",
    "                     answer_sentence='',\n",
    "                     task_id=\"\")\n",
    "\n",
    "batch = dataset.procesTexts(data)\n",
    "\n",
    "b_input_ids = batch.input_ids.view(1, -1).to(device)\n",
    "b_input_mask = batch.attention_mask.view(1, -1).to(device)\n",
    "\n",
    "sample_too = True\n",
    "sampling_helper = {} if not sample_too else dict(top_k=25, top_p=0.95,)\n",
    "return_top_beams = beam_size if not sample_too else 25\n",
    "# seed_everything(2982)\n",
    "generator.eval()\n",
    "with torch.no_grad():\n",
    "    sample_outputs = generator.generate(input_ids=b_input_ids,  **sampling_helper,\n",
    "                                        attention_mask=b_input_mask,\n",
    "                                        num_beams=beam_size,\n",
    "                                        repetition_penalty=repetition_penalty,\n",
    "                                        length_penalty=length_penalty,\n",
    "                                        early_stopping=False,\n",
    "                                        use_cache=True,\n",
    "                                        max_length=max_length,\n",
    "                                        no_repeat_ngram_size=2,\n",
    "                                        num_return_sequences=return_top_beams,\n",
    "                                        do_sample=sample_too,\n",
    "                                        eos_token_id=dataset.tokenizer.eos_token_id,)\n",
    "oop = [dataset.tokenizer.decode(sample_outputs[idx],\n",
    "                                skip_special_tokens=True,\n",
    "                                clean_up_tokenization_spaces=True) for idx in range(return_top_beams)]\n",
    "\n",
    "print(f'Article Section: {data.context}')\n",
    "print('Questions Generated')\n",
    "for q in set(oop):\n",
    "    print(q)\n"
   ]
  },
  {
   "cell_type": "code",
   "execution_count": 21,
   "metadata": {},
   "outputs": [
    {
     "name": "stdout",
     "output_type": "stream",
     "text": [
      "What is the name of the pancake that is made with buttermilk in place of eggs?\n",
      "What is the name of the type of pancake made with buttermilk in place of eggs?\n",
      "What is the pancake with buttermilk in place of or in addition to milk known as in Scotland and the US?\n",
      "What is the name of the pancake that is made with buttermilk in place of eggs when it is used in addition to milk?\n",
      "What is the name of the pancake that is used in place of buttermilk in addition to milk?\n",
      "What is the name of the pancake that is used in place of buttermilk in addition to milk?\n",
      "What is the name of the type of pancake that is made with buttermilk in place of eggs when it is used in addition to milk?\n",
      "What is the name of the pancake that is used in place of buttermilk when it is not used?\n",
      "What type of pancake can be used in place of buttermilk to make it tart?\n",
      "What is a type of buckwheat pancake that can be used in place of buttermilk or in addition to milk?\n",
      "What is the name of the pancake that is used when buttermilk is not used in place of or in addition to milk?\n",
      "What is the pancake called when buttermilk is used in place of or in addition to milk, it develops a tart flavor and becomes known as?\n",
      "What is used in place of buttermilk in the pancake batter to make it tart?\n",
      "What is used in place of buttermilk in the pancake batter to make it tart?\n",
      "What is the name of the pancake that is made with buttermilk in place of eggs when it is used in addition to milk?\n",
      "What type of pancake can be used in place of buttermilk to make it tart?\n",
      "What type of pancake can be used in place of buttermilk?\n",
      "What type of pancake can be used in place of buttermilk when it is not used to make it tart?\n",
      "What type of pancake is made when buttermilk is used in place of or in addition to milk?\n",
      "What is used in place of buttermilk in the pancake batter to make it tart?\n",
      "What type of pancake is used in place of buttermilk when it comes to making it easier to make?\n",
      "What is the name of the pancake that is used in place of buttermilk in addition to milk?\n",
      "What is the name of the type of pancake that is used in place of buttermilk?\n",
      "What is a type of buckwheat pancake that is used in place of buttermilk in order to make it tart?\n",
      "What is the name of the pancake that is used in place of buttermilk in addition to milk?\n"
     ]
    }
   ],
   "source": [
    "for q in oop:\n",
    "    print(q)"
   ]
  }
 ],
 "metadata": {
  "kernelspec": {
   "display_name": "Python 3.9.13 ('development')",
   "language": "python",
   "name": "python3"
  },
  "language_info": {
   "codemirror_mode": {
    "name": "ipython",
    "version": 3
   },
   "file_extension": ".py",
   "mimetype": "text/x-python",
   "name": "python",
   "nbconvert_exporter": "python",
   "pygments_lexer": "ipython3",
   "version": "3.9.13"
  },
  "orig_nbformat": 4,
  "vscode": {
   "interpreter": {
    "hash": "473435c5caf2da67d3d84349b3ab99ae605588908510e1f3cdf041055f6c21f2"
   }
  }
 },
 "nbformat": 4,
 "nbformat_minor": 2
}
