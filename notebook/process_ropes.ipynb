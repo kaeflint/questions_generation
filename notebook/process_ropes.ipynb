{
 "cells": [
  {
   "cell_type": "code",
   "execution_count": 1,
   "metadata": {},
   "outputs": [],
   "source": [
    "import json\n",
    "import sys\n",
    "import random\n",
    "sys.path.append('../')\n",
    "data_path = '../new_dataset/ropes-train-dev-v1.0/'\n",
    "train_data = json.load(open(data_path +'/train-v1.0.json'))\n",
    "dev_data = json.load(open(data_path +'/dev-v1.0.json'))"
   ]
  },
  {
   "cell_type": "code",
   "execution_count": 7,
   "metadata": {},
   "outputs": [
    {
     "data": {
      "text/plain": [
       "{'background': 'If a nuclear chain reaction is uncontrolled, it produces a lot of energy all at once. This is what happens in an atomic bomb. However, if a nuclear chain reaction is controlled, it produces energy much more slowly. This is what occurs in a nuclear power plant. The reaction is controlled by inserting rods of nonfissioning material into the fissioning material. You can see this in the Figure below . The radiation from the controlled fission is used to heat water and turn it to steam. The steam is under pressure and causes a turbine to spin. The spinning turbine runs a generator, which produces electricity.',\n",
       " 'situation': 'The city has recently come upon some nuclear material and is wanting to use it for power generation. They are not sure how to implement it safely and have devised several strategies which include an uncontrolled reaction and a controlled reaction of the material. ',\n",
       " 'qas': [{'question': 'Which strategy is better suited for generating power?',\n",
       "   'id': '1885492047',\n",
       "   'answers': [{'text': 'controlled reaction'}]},\n",
       "  {'question': 'Which strategy is not a good idea for generating power?',\n",
       "   'id': '75191145',\n",
       "   'answers': [{'text': 'uncontrolled reaction'}]}]}"
      ]
     },
     "execution_count": 7,
     "metadata": {},
     "output_type": "execute_result"
    }
   ],
   "source": [
    "dev_data['data'][0]['paragraphs'][2]"
   ]
  },
  {
   "cell_type": "code",
   "execution_count": 9,
   "metadata": {},
   "outputs": [],
   "source": [
    "from src.dataset_processor import GenerationTasks,QuestionGenerationData\n",
    "import random"
   ]
  },
  {
   "cell_type": "code",
   "execution_count": 13,
   "metadata": {},
   "outputs": [],
   "source": [
    "def processText(data,with_outcontext = True):\n",
    "    data_pack =[]\n",
    "    for datum in data:\n",
    "        background = datum['background']\n",
    "        situation = datum['situation']\n",
    "        qas = datum['qas']\n",
    "        for qa in qas:\n",
    "            q= qa['question']\n",
    "            answer = random.choice(qa['answers'])['text'] if len(qa['answers'])>0 else ''\n",
    "            question_object_vanilla = QuestionGenerationData(task=GenerationTasks.vanilla_question_gen,\n",
    "                                                     input_text= background+' '+situation, output_text= q,\n",
    "                                                     contextual_text=\"\" )\n",
    "            data_pack.append(question_object_vanilla)\n",
    "            if len(answer)>0:\n",
    "                question_object_context = QuestionGenerationData(task=GenerationTasks.context_question_gen,\n",
    "                                                     input_text= background+' '+situation,  output_text= q,\n",
    "                                                     contextual_text=answer )\n",
    "                data_pack.append(question_object_context)\n",
    "    return data_pack\n",
    "            "
   ]
  },
  {
   "cell_type": "code",
   "execution_count": 15,
   "metadata": {},
   "outputs": [
    {
     "data": {
      "text/plain": [
       "3376"
      ]
     },
     "execution_count": 15,
     "metadata": {},
     "output_type": "execute_result"
    }
   ],
   "source": [
    "dev_data_obj = processText(dev_data['data'][0]['paragraphs']) \n",
    "len(dev_data_obj)"
   ]
  },
  {
   "cell_type": "code",
   "execution_count": 16,
   "metadata": {},
   "outputs": [
    {
     "data": {
      "text/plain": [
       "21848"
      ]
     },
     "execution_count": 16,
     "metadata": {},
     "output_type": "execute_result"
    }
   ],
   "source": [
    "train_data_obj = processText(train_data['data'][0]['paragraphs']) \n",
    "len(train_data_obj)"
   ]
  },
  {
   "cell_type": "code",
   "execution_count": null,
   "metadata": {},
   "outputs": [],
   "source": [
    "from dataclass_csv import DataclassReader, dateformat,DataclassWriter\n",
    "\n",
    "with open(\"../curated_data/rope_train.csv\", \"w\",encoding='utf-8') as f:\n",
    "    w = DataclassWriter(f, train_data_obj, QuestionGenerationData)\n",
    "    w.write()\n",
    "\n",
    "with open(\"../curated_data/rope_dev.csv\", \"w\",encoding='utf-8') as f:\n",
    "    w = DataclassWriter(f, dev_data_obj, QuestionGenerationData)\n",
    "    w.write()"
   ]
  }
 ],
 "metadata": {
  "kernelspec": {
   "display_name": "Python 3.9.13 ('development')",
   "language": "python",
   "name": "python3"
  },
  "language_info": {
   "codemirror_mode": {
    "name": "ipython",
    "version": 3
   },
   "file_extension": ".py",
   "mimetype": "text/x-python",
   "name": "python",
   "nbconvert_exporter": "python",
   "pygments_lexer": "ipython3",
   "version": "3.9.13"
  },
  "orig_nbformat": 4,
  "vscode": {
   "interpreter": {
    "hash": "473435c5caf2da67d3d84349b3ab99ae605588908510e1f3cdf041055f6c21f2"
   }
  }
 },
 "nbformat": 4,
 "nbformat_minor": 2
}
