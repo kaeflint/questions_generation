{
 "cells": [
  {
   "cell_type": "code",
   "execution_count": 1,
   "metadata": {},
   "outputs": [],
   "source": [
    "import pandas as pd\n",
    "from nltk.tokenize import sent_tokenize\n",
    "import re\n",
    "from nltk.data import load\n",
    "import random\n",
    "import json\n",
    "import sys\n",
    "import random\n",
    "sys.path.append('../')\n",
    "tokenizer = load('tokenizers/punkt/{0}.pickle'.format('english'))\n",
    "tokenizer._params.abbrev_types.add('..')\n",
    "tokenizer._params.abbrev_types.add('No')\n",
    "tokenizer._params.abbrev_types.add('no')\n",
    "tokenizer._params.abbrev_types.add('Dr')\n",
    "tokenizer._params.abbrev_types.add('dr')\n",
    "tokenizer._params.abbrev_types.add('op')\n",
    "tokenizer._params.abbrev_types.add('J.S.')\n",
    "\n",
    "def default_sentence_split(passage):\n",
    "    return tokenizer.tokenize(passage)"
   ]
  },
  {
   "cell_type": "code",
   "execution_count": 4,
   "metadata": {},
   "outputs": [],
   "source": [
    "para_train = pd.read_csv('../../../dataset/paraphrase_extended_train.csv',index_col=None).dropna()\n",
    "para_test = pd.read_csv('../../../dataset/paraphrase_test.csv').dropna()"
   ]
  },
  {
   "cell_type": "code",
   "execution_count": 6,
   "metadata": {},
   "outputs": [],
   "source": [
    "import tqdm\n",
    "from src.config import GenerationTasks\n",
    "\n",
    "from src.dataset_processor import QuestionGenerationData\n",
    "\n",
    "\n",
    "def process_paraphrase(datapack,verbose=False):\n",
    "    datapack_strip = datapack.values\n",
    "    dataset = []\n",
    "    for idx, dat in tqdm.tqdm(enumerate(datapack_strip )) if verbose else enumerate(datapack_strip ):\n",
    "        q1= dat[0]\n",
    "        q2 = dat[1]\n",
    "\n",
    "        vani_dob_q = QuestionGenerationData(task=GenerationTasks.question_paraphrase,\n",
    "                                            input_text= q1, \n",
    "                                            output_text=q2,\n",
    "                                            contextual_text= \"\")\n",
    "        dataset.append(vani_dob_q)\n",
    "    return dataset"
   ]
  },
  {
   "cell_type": "code",
   "execution_count": 9,
   "metadata": {},
   "outputs": [
    {
     "name": "stderr",
     "output_type": "stream",
     "text": [
      "146161it [00:00, 344875.62it/s]\n",
      "4220it [00:00, 602921.38it/s]\n"
     ]
    }
   ],
   "source": [
    "train_para = process_paraphrase(para_train,True)\n",
    "test_para = process_paraphrase(para_test,True)"
   ]
  },
  {
   "cell_type": "code",
   "execution_count": 10,
   "metadata": {},
   "outputs": [],
   "source": [
    "from dataclass_csv import DataclassReader, dateformat,DataclassWriter\n",
    "\n",
    "with open(\"../curated_data/para_train.csv\", \"w\",encoding='utf-8') as f:\n",
    "    w = DataclassWriter(f, train_para, QuestionGenerationData)\n",
    "    w.write()\n",
    "\n",
    "with open(\"../curated_data/para_dev.csv\", \"w\",encoding='utf-8') as f:\n",
    "    w = DataclassWriter(f, test_para, QuestionGenerationData)\n",
    "    w.write()"
   ]
  },
  {
   "cell_type": "code",
   "execution_count": 11,
   "metadata": {},
   "outputs": [],
   "source": [
    "import glob"
   ]
  },
  {
   "cell_type": "code",
   "execution_count": 15,
   "metadata": {},
   "outputs": [],
   "source": [
    "files = glob.glob('../curated_data/*.csv')\n",
    "def load_dataset(data_path: str):\n",
    "    pack = []\n",
    "    with open(data_path, encoding=\"utf-8\") as f:\n",
    "        dataset = DataclassReader(f, QuestionGenerationData)\n",
    "        for row in dataset:\n",
    "            pack.append(row)\n",
    "    return pack\n",
    "\n",
    "def load_all_data(dataset_path,mode='train'):\n",
    "    files = glob.glob(dataset_path+f'*{mode}.csv')\n",
    "    print('processing files: ',files)\n",
    "    dataset = []\n",
    "    for file in files:\n",
    "        dataset+=load_dataset(file)\n",
    "    random.shuffle(dataset)\n",
    "    random.shuffle(dataset)\n",
    "    return dataset"
   ]
  },
  {
   "cell_type": "code",
   "execution_count": 23,
   "metadata": {},
   "outputs": [],
   "source": [
    "\n"
   ]
  },
  {
   "cell_type": "code",
   "execution_count": 25,
   "metadata": {},
   "outputs": [
    {
     "name": "stdout",
     "output_type": "stream",
     "text": [
      "processing files:  ['../curated_data\\\\drop_train.csv', '../curated_data\\\\extra_data_train.csv', '../curated_data\\\\para_train.csv', '../curated_data\\\\squad_train.csv']\n",
      "processing files:  ['../curated_data\\\\drop_dev.csv', '../curated_data\\\\para_dev.csv', '../curated_data\\\\squad_dev.csv']\n"
     ]
    }
   ],
   "source": [
    "train_dataset = load_all_data('../curated_data/')\n",
    "test_dataset = load_all_data('../curated_data/',mode='dev')"
   ]
  },
  {
   "cell_type": "code",
   "execution_count": 20,
   "metadata": {},
   "outputs": [
    {
     "data": {
      "text/plain": [
       "QuestionGenerationData(task='<generate_questions>', input_text='In discussions of matter and antimatter, normal matter has been referred to by Alfvén as koinomatter (Gk. common matter). It is fair to say that in physics, there is no broad consensus as to a general definition of matter, and the term \"matter\" usually is used in conjunction with a specifying modifier.', output_text='What field of study has a variety of unusual contexts?', contextual_text='It is fair to say that in physics, there is no broad consensus as to a general definition of matter, and the term \"matter\" usually is used in conjunction with a specifying modifier.')"
      ]
     },
     "execution_count": 20,
     "metadata": {},
     "output_type": "execute_result"
    }
   ],
   "source": [
    "train_dataset[-1]"
   ]
  },
  {
   "cell_type": "code",
   "execution_count": null,
   "metadata": {},
   "outputs": [],
   "source": []
  }
 ],
 "metadata": {
  "kernelspec": {
   "display_name": "Python 3.9.13 ('vsme')",
   "language": "python",
   "name": "python3"
  },
  "language_info": {
   "codemirror_mode": {
    "name": "ipython",
    "version": 3
   },
   "file_extension": ".py",
   "mimetype": "text/x-python",
   "name": "python",
   "nbconvert_exporter": "python",
   "pygments_lexer": "ipython3",
   "version": "3.9.13"
  },
  "orig_nbformat": 4,
  "vscode": {
   "interpreter": {
    "hash": "8668be6b984810a719ea8d9d65f1db71763e5fda81d742006499ca3824b8b485"
   }
  }
 },
 "nbformat": 4,
 "nbformat_minor": 2
}
